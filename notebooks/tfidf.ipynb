{
 "cells": [
  {
   "cell_type": "markdown",
   "metadata": {},
   "source": [
    "# Modelling Using Term Frequency - Inverse Document Frequency\n",
    "To create an accurate predictive model which determines how well someone did on their virtual internship there are two potential general methods:\n",
    "* Using the provided tabular data\n",
    "* Use a numeric representation of the chat transcripts\n",
    "\n",
    "Although interpreting the written text is far more difficult than creating a tabular classifier, it has greater overall potential.\n",
    "This is because the given tabular data does not provide enough information to make an informative decision on how well or badly someone faired."
   ]
  },
  {
   "cell_type": "code",
   "execution_count": 1,
   "metadata": {},
   "outputs": [],
   "source": [
    "import pandas as pd\n",
    "import numpy as np\n",
    "\n",
    "from imblearn.over_sampling import RandomOverSampler\n",
    "from sklearn.model_selection import train_test_split\n",
    "from sklearn.pipeline import make_pipeline\n",
    "from sklearn.feature_extraction.text import TfidfVectorizer\n",
    "from sklearn.tree import DecisionTreeClassifier, plot_tree\n",
    "from sklearn.ensemble import BaggingClassifier, RandomForestClassifier, AdaBoostClassifier\n",
    "from sklearn.ensemble import GradientBoostingClassifier\n",
    "from sklearn.naive_bayes import MultinomialNB\n",
    "from sklearn.linear_model import LogisticRegression\n",
    "from sklearn.neighbors import KNeighborsClassifier\n",
    "from sklearn.metrics import confusion_matrix, plot_confusion_matrix, classification_report, accuracy_score, f1_score\n",
    "from sklearn.model_selection import cross_val_score\n",
    "from sklearn.model_selection import RandomizedSearchCV\n",
    "from scipy.stats import uniform, loguniform, randint\n",
    "from sklearn.feature_selection import SelectKBest\n",
    "from sklearn.feature_selection import chi2\n",
    "\n",
    "from matplotlib import pyplot as plt\n",
    "from xgboost import XGBClassifier"
   ]
  },
  {
   "cell_type": "markdown",
   "metadata": {},
   "source": [
    "## Data Processing\n",
    "Before we can begin creating models to predict peoples scores we have to ensure that the data is cleaned and interpretable.\n",
    "\n",
    "The process begins with removing messages sent by the mentor.\n",
    "These are preset with an average rating of 4 to avoid modifying any average statistics run on the dataset.\n",
    "However, they do not add any value to the analysis and further skew the mode of the dataset towards the average mean result.\n",
    "\n",
    "Secondly, we oversample the minority classes which have fewer samples.\n",
    "This mitigates our models seeing very few highly-rated and low-rated scores, whilst at the same time a very very large number of average ratings (class imbalance).\n",
    "To finish off we ensure that this though does not happen to the test dataset, as we want to see how it fairs on the actual problem (having duplicates does help).\n",
    "We utilise random state seeds to ensure that this all happens the exact same way each time."
   ]
  },
  {
   "cell_type": "code",
   "execution_count": 2,
   "metadata": {},
   "outputs": [],
   "source": [
    "df = pd.read_csv(\"../data/data.csv\")\n",
    "df = df[df[\"RoleName\"] != \"Mentor\"]"
   ]
  },
  {
   "cell_type": "code",
   "execution_count": 3,
   "metadata": {},
   "outputs": [],
   "source": [
    "ros = RandomOverSampler(random_state=0)\n",
    "x_resampled, y_resampled = ros.fit_resample(df[[\"content\"]], df[\"OutcomeScore\"])\n",
    "x_train, x_test, y_train, y_test = train_test_split(x_resampled[\"content\"], y_resampled, train_size=0.8, random_state=0)\n",
    "_, x_test, _, y_test = train_test_split(df[\"content\"], df[\"OutcomeScore\"], train_size=0.8, random_state=0) # test on imbalanced data"
   ]
  },
  {
   "cell_type": "markdown",
   "metadata": {},
   "source": [
    "## Model Training\n",
    "We will test a variety of models to see how different models fair.\n",
    "Models include logistic regression (baseline),  naive bays, k-nearest neighbours, decision trees and ensemble models such as random forests and (normal/extreme) gradient boosting.\n",
    "The selection is designed to accentuate which types of models are most likely to work well for the classification of grades based on sparse text.\n",
    "\n",
    "\n",
    "To test out our model's several data pipelines are built.\n",
    "Pipelines are utilised to avoid having to manually run each stage and chain their inputs/outputs together.\n",
    "Scikit-Learn pipelines assign unique names appropriately to each stage which can be used to reference them and provides a far more quick and elegant approach.\n",
    "\n",
    "The pipelines all include the following stages:\n",
    "* Term Frequency-Inverse Document Frequency Vectoriser\n",
    "* Chi-Squared Feature Selection\n",
    "* Hyperparameter Optimisation\n",
    "  * For final models\n",
    "  * Uses random search\n",
    "\n",
    "\n",
    "Each models pipeline starts with a TF-IDF vectoriser.\n",
    "Term Frequency - Inverse Document Frequency (TF-IDF) is used to transform worded textual language into matrices of numbers.\n",
    "This is necessary because all conventional machine and deep learning classification models (like random forests and neural nets) optimisation routines are designed to process numeric vectors.\n",
    "Term Frequency - Inverse Document Frequency (TF-IDF) models provide a standard way to go from text to a numeric vector representation of data.\n",
    "This works by first calculating the number of times each word is used globally (in every document from the text corpus combined) and in each separate document.\n",
    "The fraction is essentially a weighting of the importance of the word.\n",
    "This is because words which are frequently used across the board are very unlikely to be useful (common stop words like a, the and to are obvious examples) whereas those used frequently in a select few documents should convey some unique insight.\n",
    "\n",
    "\n",
    "Although the raw TF-IDF data is useful, there are far too many feature columns to process.\n",
    "This causes model training to take increasingly large amounts of time.\n",
    "It also causes some models to either be virtually impossible to train with commonplace hardware and prohibits certain models like gradient boosted ensembles from working well as the data is extremely sparse.\n",
    "To overcome training and optimisation problems in a relatively short constrained timeframe, we can use the Chi-Squared metric for feature importance and extract the top 2000 features.\n",
    "\n",
    "\n",
    "Upon first tests, all models go through a hyperparameter optimisation process.\n",
    "Instead of tuning all hyperparameters, a small selection are chosen per model which either alters how the models function (e.g. optimisation routines) or how conservative they are (e.g. max depth).\n",
    "Hyperparameter values are randomly selected within their specified range and in the end to the combination which produces the highest weighted f1 score is chosen.\n",
    "F1 scores are prefered over accuracy simple to avoid situations where either precision or recall is high whilst the other low.\n",
    "Due to the large computational and time cost in hyperparameter selection, the process is the only rerun for models where it resulted in sizable improvements (based on a further evaluation) or where considerably different to default parameters are chosen.\n",
    "This is the case for the baseline logistic regression model.\n",
    "Other optimisation routines are commented out and the basic pipeline is selected instead.\n",
    "\n",
    "\n",
    "To ensure we find a model which will fair well on real data we use 5-Fold cross-validation when doing our random hyperparameter search.\n",
    "This statistically ensures that the results are sound and not simply due to overfitting or a randomly easy/hard dataset (for example one with very few examples of high scoring messages will struggle on the test set).\n",
    "\n",
    "\n",
    "The most important models which are the most likely to perform well are:\n",
    "* Logistic Regression - Baseline\n",
    "* Random Forests - Ensemble of Decision Trees\n",
    "* Extreme Gradient Boosting - Stochastic Gradient Boosted Ensemble of Decision Trees"
   ]
  },
  {
   "cell_type": "code",
   "execution_count": 4,
   "metadata": {},
   "outputs": [
    {
     "name": "stderr",
     "output_type": "stream",
     "text": [
      "C:\\Users\\kamwi\\miniconda3\\envs\\vi\\lib\\site-packages\\sklearn\\linear_model\\_logistic.py:765: ConvergenceWarning: lbfgs failed to converge (status=1):\n",
      "STOP: TOTAL NO. of ITERATIONS REACHED LIMIT.\n",
      "\n",
      "Increase the number of iterations (max_iter) or scale the data as shown in:\n",
      "    https://scikit-learn.org/stable/modules/preprocessing.html\n",
      "Please also refer to the documentation for alternative solver options:\n",
      "    https://scikit-learn.org/stable/modules/linear_model.html#logistic-regression\n",
      "  extra_warning_msg=_LOGISTIC_SOLVER_CONVERGENCE_MSG)\n"
     ]
    },
    {
     "data": {
      "text/plain": [
       "{'tol': 0.00013065565828868157}"
      ]
     },
     "execution_count": 4,
     "metadata": {},
     "output_type": "execute_result"
    }
   ],
   "source": [
    "# baseline_clf = make_pipeline(TfidfVectorizer(), SelectKBest(chi2, k=2000), LogisticRegression(random_state=0, solver=\"newton-cg\", max_iter=500))\n",
    "\n",
    "baseline_clf = make_pipeline(\n",
    "    TfidfVectorizer(),\n",
    "    SelectKBest(chi2, k=2000),\n",
    "    RandomizedSearchCV(\n",
    "        LogisticRegression(random_state=0, solver=\"lbfgs\", penalty=\"none\", max_iter=500),\n",
    "        {\n",
    "#             \"solver\": [\"newton-cg\", \"lbfgs\"], # newton-cg offers most relaible convergence\n",
    "#             \"penalty\": [\"l1\", \"l2\", \"elasticnet\", \"none\"], # penalty causes significant performance loss\n",
    "            \"tol\": loguniform(1e-5, 1e-3),\n",
    "#             \"C\": loguniform(1e-5, 100) # comment out if using no penalty\n",
    "        },\n",
    "        n_jobs=3, n_iter=50, cv=5,\n",
    "        scoring=\"f1_weighted\"\n",
    "    ),\n",
    ")\n",
    "\n",
    "baseline_clf.fit(x_train, y_train);\n",
    "# baseline_clf = make_pipeline(TfidfVectorizer(), SelectKBest(chi2, k=2000), baseline_clf[\"randomizedsearchcv\"].best_estimator_)\n",
    "baseline_clf[\"randomizedsearchcv\"].best_params_"
   ]
  },
  {
   "cell_type": "code",
   "execution_count": 5,
   "metadata": {},
   "outputs": [
    {
     "data": {
      "text/plain": [
       "{'alpha': 0.0061777034624870275, 'fit_prior': True}"
      ]
     },
     "execution_count": 5,
     "metadata": {},
     "output_type": "execute_result"
    }
   ],
   "source": [
    "# naive_bayes_clf = make_pipeline(TfidfVectorizer(), SelectKBest(chi2, k=1000), MultinomialNB())\n",
    "\n",
    "naive_bayes_clf = make_pipeline(\n",
    "    TfidfVectorizer(),\n",
    "    SelectKBest(chi2, k=2000),\n",
    "    RandomizedSearchCV(\n",
    "        MultinomialNB(),\n",
    "        {\n",
    "            \"alpha\": uniform(0, 3),\n",
    "            \"fit_prior\": [True, False]\n",
    "        },\n",
    "        n_jobs=3, n_iter=100, cv=5,\n",
    "        scoring=\"f1_weighted\"\n",
    "    )\n",
    ")\n",
    "\n",
    "naive_bayes_clf.fit(x_train, y_train);\n",
    "naive_bayes_clf[\"randomizedsearchcv\"].best_params_"
   ]
  },
  {
   "cell_type": "code",
   "execution_count": 6,
   "metadata": {},
   "outputs": [
    {
     "name": "stderr",
     "output_type": "stream",
     "text": [
      "C:\\Users\\kamwi\\miniconda3\\envs\\vi\\lib\\site-packages\\sklearn\\model_selection\\_search.py:289: UserWarning: The total space of parameters 18 is smaller than n_iter=100. Running 18 iterations. For exhaustive searches, use GridSearchCV.\n",
      "  % (grid_size, self.n_iter, grid_size), UserWarning)\n"
     ]
    },
    {
     "data": {
      "text/plain": [
       "{'weights': 'distance', 'n_neighbors': 9, 'metric': 'manhattan'}"
      ]
     },
     "execution_count": 6,
     "metadata": {},
     "output_type": "execute_result"
    }
   ],
   "source": [
    "# k_nearest_neighbors_clf = make_pipeline(TfidfVectorizer(), SelectKBest(chi2, k=2000), KNeighborsClassifier())\n",
    "\n",
    "k_nearest_neighbors_clf = make_pipeline(\n",
    "    TfidfVectorizer(),\n",
    "    SelectKBest(chi2, k=2000),\n",
    "    RandomizedSearchCV(\n",
    "        KNeighborsClassifier(),\n",
    "        {\n",
    "            \"n_neighbors\": [5, 7, 9],\n",
    "            \"weights\": [\"uniform\", \"distance\"],\n",
    "            \"metric\": [\"euclidean\", \"manhattan\", \"minkowski\"]\n",
    "        },\n",
    "        n_jobs=3, n_iter=100, cv=5,\n",
    "        scoring=\"f1_weighted\"\n",
    "    )\n",
    ")\n",
    "\n",
    "k_nearest_neighbors_clf.fit(x_train, y_train);\n",
    "k_nearest_neighbors_clf[\"randomizedsearchcv\"].best_params_"
   ]
  },
  {
   "cell_type": "code",
   "execution_count": 7,
   "metadata": {},
   "outputs": [
    {
     "name": "stderr",
     "output_type": "stream",
     "text": [
      "C:\\Users\\kamwi\\miniconda3\\envs\\vi\\lib\\site-packages\\sklearn\\model_selection\\_search.py:289: UserWarning: The total space of parameters 2 is smaller than n_iter=100. Running 2 iterations. For exhaustive searches, use GridSearchCV.\n",
      "  % (grid_size, self.n_iter, grid_size), UserWarning)\n"
     ]
    },
    {
     "data": {
      "text/plain": [
       "{'min_samples_split': 2, 'min_samples_leaf': 2, 'criterion': 'entropy'}"
      ]
     },
     "execution_count": 7,
     "metadata": {},
     "output_type": "execute_result"
    }
   ],
   "source": [
    "# decision_tree_clf = make_pipeline(TfidfVectorizer(), SelectKBest(chi2, k=1000), DecisionTreeClassifier(random_state=0))\n",
    "\n",
    "decision_tree_clf = make_pipeline(\n",
    "    TfidfVectorizer(),\n",
    "    SelectKBest(chi2, k=2000),\n",
    "    RandomizedSearchCV(\n",
    "        RandomForestClassifier(random_state=0),\n",
    "        {\n",
    "            \"criterion\": [\"gini\", \"entropy\"],\n",
    "#             \"max_depth\": [None, 5, 10, 50, 100], # max_depth always best none\n",
    "            \"min_samples_split\": [2], # randint(2, 5), # min samples leaf always 2\n",
    "            \"min_samples_leaf\": [2] # randint(2, 5) # min samples split always 2\n",
    "        },\n",
    "        n_jobs=3, n_iter=100, cv=5,\n",
    "        scoring=\"f1_weighted\"\n",
    "    )\n",
    ")\n",
    "\n",
    "decision_tree_clf.fit(x_train, y_train);\n",
    "decision_tree_clf[\"randomizedsearchcv\"].best_params_"
   ]
  },
  {
   "cell_type": "code",
   "execution_count": 8,
   "metadata": {},
   "outputs": [
    {
     "data": {
      "text/plain": [
       "{'min_samples_leaf': 2, 'min_samples_split': 2, 'n_estimators': 99}"
      ]
     },
     "execution_count": 8,
     "metadata": {},
     "output_type": "execute_result"
    }
   ],
   "source": [
    "# random_forest_clf = make_pipeline(TfidfVectorizer(), SelectKBest(chi2, k=1000), RandomForestClassifier(random_state=0))\n",
    "\n",
    "random_forest_clf = make_pipeline(\n",
    "    TfidfVectorizer(),\n",
    "    SelectKBest(chi2, k=2000),\n",
    "    RandomizedSearchCV(\n",
    "        RandomForestClassifier(random_state=0),\n",
    "        {\n",
    "            \"n_estimators\": randint(2, 100),\n",
    "#             \"max_depth\": [None, 5, 10, 50, 100], # max_depth always best none\n",
    "            \"min_samples_split\": [2], # randint(2, 5), # min samples leaf always 2\n",
    "            \"min_samples_leaf\": [2] # randint(2, 5) # min samples split always 2\n",
    "        },\n",
    "        n_jobs=3, n_iter=100, cv=5,\n",
    "        scoring=\"f1_weighted\"\n",
    "    )\n",
    ")\n",
    "\n",
    "random_forest_clf.fit(x_train, y_train);\n",
    "random_forest_clf[\"randomizedsearchcv\"].best_params_"
   ]
  },
  {
   "cell_type": "code",
   "execution_count": 9,
   "metadata": {},
   "outputs": [
    {
     "data": {
      "text/plain": [
       "Pipeline(steps=[('tfidfvectorizer', TfidfVectorizer()),\n",
       "                ('selectkbest',\n",
       "                 SelectKBest(k=2000,\n",
       "                             score_func=<function chi2 at 0x0000023C723F4E58>)),\n",
       "                ('gradientboostingclassifier',\n",
       "                 GradientBoostingClassifier(max_depth=200, max_features=200,\n",
       "                                            n_estimators=10, random_state=0))])"
      ]
     },
     "execution_count": 9,
     "metadata": {},
     "output_type": "execute_result"
    }
   ],
   "source": [
    "gradient_boosted_clf = make_pipeline(TfidfVectorizer(), SelectKBest(chi2, k=2000), GradientBoostingClassifier(n_estimators=10, max_features=200, max_depth=200, random_state=0))\n",
    "gradient_boosted_clf.fit(x_train, y_train)"
   ]
  },
  {
   "cell_type": "code",
   "execution_count": 10,
   "metadata": {},
   "outputs": [
    {
     "name": "stderr",
     "output_type": "stream",
     "text": [
      "C:\\Users\\kamwi\\miniconda3\\envs\\vi\\lib\\site-packages\\cupy\\_environment.py:214: UserWarning: CUDA path could not be detected. Set CUDA_PATH environment variable if CuPy fails to load.\n",
      "  'CUDA path could not be detected.'\n"
     ]
    },
    {
     "name": "stdout",
     "output_type": "stream",
     "text": [
      "[04:15:31] WARNING: C:/Users/Administrator/workspace/xgboost-win64_release_1.4.0/src/learner.cc:1095: Starting in XGBoost 1.3.0, the default evaluation metric used with the objective 'multi:softprob' was changed from 'merror' to 'mlogloss'. Explicitly set eval_metric if you'd like to restore the old behavior.\n"
     ]
    },
    {
     "data": {
      "text/plain": [
       "{'eta': 0.24228681314990175,\n",
       " 'gamma': 0,\n",
       " 'max_delta_step': 0,\n",
       " 'max_depth': 100,\n",
       " 'min_child_weight': 0.46629165295532604}"
      ]
     },
     "execution_count": 10,
     "metadata": {},
     "output_type": "execute_result"
    }
   ],
   "source": [
    "# xg_boosted_clf = make_pipeline(TfidfVectorizer(), SelectKBest(chi2, k=2000), XGBClassifier(use_label_encoder=False))\n",
    "\n",
    "xg_boosted_clf = make_pipeline(\n",
    "    TfidfVectorizer(),\n",
    "    SelectKBest(chi2, k=2000),\n",
    "    RandomizedSearchCV(\n",
    "        XGBClassifier(random_state=0, use_label_encoder=False),\n",
    "        {\n",
    "            \"max_depth\": [None, 5, 10, 50, 100],\n",
    "            \"gamma\": randint(0, 5),\n",
    "            \"eta\": uniform(0, 1),\n",
    "            \"min_child_weight\": uniform(0, 2),\n",
    "            \"max_delta_step\": randint(0, 5)\n",
    "        },\n",
    "        n_jobs=2, n_iter=100, cv=5,\n",
    "        scoring=\"f1_weighted\"\n",
    "    )\n",
    ")\n",
    "\n",
    "xg_boosted_clf.fit(x_train, y_train)\n",
    "xg_boosted_clf[\"randomizedsearchcv\"].best_params_"
   ]
  },
  {
   "cell_type": "markdown",
   "metadata": {},
   "source": [
    "## Evaluation\n",
    "To evaluate how good our models are we will start by formulating a baseline estimate of how good a basic logistic regression model performs.\n",
    "We will look at the F1 score (which weighs precision and recall) and plot the confusion matrix.\n",
    "This will be repeated for each additional model."
   ]
  },
  {
   "cell_type": "code",
   "execution_count": 11,
   "metadata": {},
   "outputs": [],
   "source": [
    "def evaluate_model(model_pipeline):\n",
    "    predictions = model_pipeline.predict(x_test)\n",
    "    f1 = f1_score(y_test, predictions, average=\"weighted\")\n",
    "    report = classification_report(y_test, predictions)\n",
    "    \n",
    "    plot_confusion_matrix(model_pipeline, x_test, y_test);\n",
    "    \n",
    "    return f1, report"
   ]
  },
  {
   "cell_type": "markdown",
   "metadata": {},
   "source": [
    "## Logistic Regression Baseline"
   ]
  },
  {
   "cell_type": "code",
   "execution_count": 12,
   "metadata": {},
   "outputs": [
    {
     "data": {
      "image/png": "[encoded data removed]",
      "text/plain": [
       "<Figure size 432x288 with 2 Axes>"
      ]
     },
     "metadata": {
      "needs_background": "light"
     },
     "output_type": "display_data"
    }
   ],
   "source": [
    "f1, report = evaluate_model(baseline_clf)"
   ]
  },
  {
   "cell_type": "code",
   "execution_count": 13,
   "metadata": {},
   "outputs": [
    {
     "data": {
      "text/plain": [
       "0.3932924201680839"
      ]
     },
     "execution_count": 13,
     "metadata": {},
     "output_type": "execute_result"
    }
   ],
   "source": [
    "f1"
   ]
  },
  {
   "cell_type": "code",
   "execution_count": 14,
   "metadata": {},
   "outputs": [
    {
     "name": "stdout",
     "output_type": "stream",
     "text": [
      "              precision    recall  f1-score   support\n",
      "\n",
      "           0       0.30      0.82      0.44       105\n",
      "           1       0.35      0.58      0.44       214\n",
      "           2       0.42      0.38      0.40       485\n",
      "           3       0.42      0.38      0.40       474\n",
      "           4       0.62      0.28      0.38      1236\n",
      "           5       0.42      0.37      0.39       468\n",
      "           6       0.34      0.44      0.38       297\n",
      "           7       0.26      0.85      0.40        86\n",
      "           8       0.07      1.00      0.12        16\n",
      "\n",
      "    accuracy                           0.39      3381\n",
      "   macro avg       0.36      0.57      0.37      3381\n",
      "weighted avg       0.47      0.39      0.39      3381\n",
      "\n"
     ]
    }
   ],
   "source": [
    "print(report)"
   ]
  },
  {
   "cell_type": "markdown",
   "metadata": {},
   "source": [
    "## Naive Bayes"
   ]
  },
  {
   "cell_type": "code",
   "execution_count": 15,
   "metadata": {},
   "outputs": [
    {
     "data": {
      "image/png": "[encoded data removed]",
      "text/plain": [
       "<Figure size 432x288 with 2 Axes>"
      ]
     },
     "metadata": {
      "needs_background": "light"
     },
     "output_type": "display_data"
    }
   ],
   "source": [
    "f1, report = evaluate_model(naive_bayes_clf)"
   ]
  },
  {
   "cell_type": "code",
   "execution_count": 16,
   "metadata": {},
   "outputs": [
    {
     "data": {
      "text/plain": [
       "0.3311276478440187"
      ]
     },
     "execution_count": 16,
     "metadata": {},
     "output_type": "execute_result"
    }
   ],
   "source": [
    "f1"
   ]
  },
  {
   "cell_type": "code",
   "execution_count": 17,
   "metadata": {},
   "outputs": [
    {
     "name": "stdout",
     "output_type": "stream",
     "text": [
      "              precision    recall  f1-score   support\n",
      "\n",
      "           0       0.19      0.62      0.29       105\n",
      "           1       0.34      0.50      0.40       214\n",
      "           2       0.35      0.38      0.37       485\n",
      "           3       0.35      0.30      0.32       474\n",
      "           4       0.65      0.22      0.32      1236\n",
      "           5       0.38      0.27      0.32       468\n",
      "           6       0.32      0.35      0.33       297\n",
      "           7       0.15      0.74      0.25        86\n",
      "           8       0.05      1.00      0.10        16\n",
      "\n",
      "    accuracy                           0.32      3381\n",
      "   macro avg       0.31      0.49      0.30      3381\n",
      "weighted avg       0.45      0.32      0.33      3381\n",
      "\n"
     ]
    }
   ],
   "source": [
    "print(report)"
   ]
  },
  {
   "cell_type": "markdown",
   "metadata": {},
   "source": [
    "## K-Nearest Neighbors"
   ]
  },
  {
   "cell_type": "code",
   "execution_count": 18,
   "metadata": {},
   "outputs": [
    {
     "data": {
      "image/png": "[encoded data removed]",
      "text/plain": [
       "<Figure size 432x288 with 2 Axes>"
      ]
     },
     "metadata": {
      "needs_background": "light"
     },
     "output_type": "display_data"
    }
   ],
   "source": [
    "f1, report = evaluate_model(k_nearest_neighbors_clf)"
   ]
  },
  {
   "cell_type": "code",
   "execution_count": 19,
   "metadata": {},
   "outputs": [
    {
     "data": {
      "text/plain": [
       "0.7998380760965783"
      ]
     },
     "execution_count": 19,
     "metadata": {},
     "output_type": "execute_result"
    }
   ],
   "source": [
    "f1"
   ]
  },
  {
   "cell_type": "code",
   "execution_count": 20,
   "metadata": {},
   "outputs": [
    {
     "name": "stdout",
     "output_type": "stream",
     "text": [
      "              precision    recall  f1-score   support\n",
      "\n",
      "           0       0.58      0.90      0.71       105\n",
      "           1       0.62      0.87      0.72       214\n",
      "           2       0.84      0.81      0.82       485\n",
      "           3       0.79      0.83      0.81       474\n",
      "           4       0.89      0.74      0.80      1236\n",
      "           5       0.83      0.79      0.81       468\n",
      "           6       0.83      0.86      0.85       297\n",
      "           7       0.62      0.90      0.73        86\n",
      "           8       0.26      0.94      0.41        16\n",
      "\n",
      "    accuracy                           0.80      3381\n",
      "   macro avg       0.70      0.85      0.74      3381\n",
      "weighted avg       0.82      0.80      0.80      3381\n",
      "\n"
     ]
    }
   ],
   "source": [
    "print(report)"
   ]
  },
  {
   "cell_type": "markdown",
   "metadata": {},
   "source": [
    "## Decision Trees"
   ]
  },
  {
   "cell_type": "code",
   "execution_count": 21,
   "metadata": {},
   "outputs": [
    {
     "data": {
      "image/png": "[encoded data removed]",
      "text/plain": [
       "<Figure size 432x288 with 2 Axes>"
      ]
     },
     "metadata": {
      "needs_background": "light"
     },
     "output_type": "display_data"
    }
   ],
   "source": [
    "f1, report = evaluate_model(decision_tree_clf)"
   ]
  },
  {
   "cell_type": "code",
   "execution_count": 22,
   "metadata": {},
   "outputs": [
    {
     "data": {
      "text/plain": [
       "0.7512453927280456"
      ]
     },
     "execution_count": 22,
     "metadata": {},
     "output_type": "execute_result"
    }
   ],
   "source": [
    "f1"
   ]
  },
  {
   "cell_type": "code",
   "execution_count": 23,
   "metadata": {},
   "outputs": [
    {
     "name": "stdout",
     "output_type": "stream",
     "text": [
      "              precision    recall  f1-score   support\n",
      "\n",
      "           0       0.55      0.90      0.68       105\n",
      "           1       0.69      0.86      0.76       214\n",
      "           2       0.83      0.72      0.77       485\n",
      "           3       0.79      0.76      0.77       474\n",
      "           4       0.87      0.67      0.76      1236\n",
      "           5       0.81      0.71      0.75       468\n",
      "           6       0.77      0.77      0.77       297\n",
      "           7       0.43      0.92      0.59        86\n",
      "           8       0.07      1.00      0.12        16\n",
      "\n",
      "    accuracy                           0.73      3381\n",
      "   macro avg       0.64      0.81      0.66      3381\n",
      "weighted avg       0.80      0.73      0.75      3381\n",
      "\n"
     ]
    }
   ],
   "source": [
    "print(report)"
   ]
  },
  {
   "cell_type": "markdown",
   "metadata": {},
   "source": [
    "## Random Forests"
   ]
  },
  {
   "cell_type": "code",
   "execution_count": 24,
   "metadata": {},
   "outputs": [
    {
     "data": {
      "image/png": "[encoded data removed]",
      "text/plain": [
       "<Figure size 432x288 with 2 Axes>"
      ]
     },
     "metadata": {
      "needs_background": "light"
     },
     "output_type": "display_data"
    }
   ],
   "source": [
    "f1, report = evaluate_model(random_forest_clf)"
   ]
  },
  {
   "cell_type": "code",
   "execution_count": 25,
   "metadata": {},
   "outputs": [
    {
     "data": {
      "text/plain": [
       "0.7545843505935956"
      ]
     },
     "execution_count": 25,
     "metadata": {},
     "output_type": "execute_result"
    }
   ],
   "source": [
    "f1"
   ]
  },
  {
   "cell_type": "code",
   "execution_count": 26,
   "metadata": {},
   "outputs": [
    {
     "name": "stdout",
     "output_type": "stream",
     "text": [
      "              precision    recall  f1-score   support\n",
      "\n",
      "           0       0.57      0.90      0.70       105\n",
      "           1       0.73      0.85      0.78       214\n",
      "           2       0.83      0.72      0.77       485\n",
      "           3       0.79      0.74      0.76       474\n",
      "           4       0.87      0.67      0.76      1236\n",
      "           5       0.82      0.73      0.77       468\n",
      "           6       0.76      0.78      0.77       297\n",
      "           7       0.41      0.93      0.57        86\n",
      "           8       0.07      1.00      0.13        16\n",
      "\n",
      "    accuracy                           0.73      3381\n",
      "   macro avg       0.65      0.81      0.67      3381\n",
      "weighted avg       0.80      0.73      0.75      3381\n",
      "\n"
     ]
    }
   ],
   "source": [
    "print(report)"
   ]
  },
  {
   "cell_type": "markdown",
   "metadata": {},
   "source": [
    "## Gradient Boosting"
   ]
  },
  {
   "cell_type": "code",
   "execution_count": 27,
   "metadata": {},
   "outputs": [
    {
     "data": {
      "image/png": "[encoded data removed]",
      "text/plain": [
       "<Figure size 432x288 with 2 Axes>"
      ]
     },
     "metadata": {
      "needs_background": "light"
     },
     "output_type": "display_data"
    }
   ],
   "source": [
    "f1, report = evaluate_model(gradient_boosted_clf)"
   ]
  },
  {
   "cell_type": "code",
   "execution_count": 28,
   "metadata": {},
   "outputs": [
    {
     "data": {
      "text/plain": [
       "0.7918239648603528"
      ]
     },
     "execution_count": 28,
     "metadata": {},
     "output_type": "execute_result"
    }
   ],
   "source": [
    "f1"
   ]
  },
  {
   "cell_type": "code",
   "execution_count": 29,
   "metadata": {},
   "outputs": [
    {
     "name": "stdout",
     "output_type": "stream",
     "text": [
      "              precision    recall  f1-score   support\n",
      "\n",
      "           0       0.69      0.88      0.77       105\n",
      "           1       0.79      0.83      0.81       214\n",
      "           2       0.86      0.76      0.81       485\n",
      "           3       0.83      0.78      0.80       474\n",
      "           4       0.87      0.74      0.80      1236\n",
      "           5       0.80      0.75      0.77       468\n",
      "           6       0.78      0.79      0.79       297\n",
      "           7       0.61      0.92      0.73        86\n",
      "           8       0.07      1.00      0.13        16\n",
      "\n",
      "    accuracy                           0.77      3381\n",
      "   macro avg       0.70      0.83      0.71      3381\n",
      "weighted avg       0.83      0.77      0.79      3381\n",
      "\n"
     ]
    }
   ],
   "source": [
    "print(report)"
   ]
  },
  {
   "cell_type": "markdown",
   "metadata": {},
   "source": [
    "## Extreme Gradient Boosting"
   ]
  },
  {
   "cell_type": "code",
   "execution_count": 30,
   "metadata": {},
   "outputs": [
    {
     "data": {
      "image/png": "[encoded data removed]",
      "text/plain": [
       "<Figure size 432x288 with 2 Axes>"
      ]
     },
     "metadata": {
      "needs_background": "light"
     },
     "output_type": "display_data"
    }
   ],
   "source": [
    "f1, report = evaluate_model(xg_boosted_clf)"
   ]
  },
  {
   "cell_type": "code",
   "execution_count": 31,
   "metadata": {},
   "outputs": [
    {
     "data": {
      "text/plain": [
       "0.822168843306187"
      ]
     },
     "execution_count": 31,
     "metadata": {},
     "output_type": "execute_result"
    }
   ],
   "source": [
    "f1"
   ]
  },
  {
   "cell_type": "code",
   "execution_count": 32,
   "metadata": {},
   "outputs": [
    {
     "name": "stdout",
     "output_type": "stream",
     "text": [
      "              precision    recall  f1-score   support\n",
      "\n",
      "           0       0.69      0.90      0.78       105\n",
      "           1       0.76      0.87      0.81       214\n",
      "           2       0.90      0.79      0.84       485\n",
      "           3       0.87      0.82      0.84       474\n",
      "           4       0.93      0.75      0.83      1236\n",
      "           5       0.85      0.79      0.82       468\n",
      "           6       0.79      0.87      0.82       297\n",
      "           7       0.62      0.91      0.74        86\n",
      "           8       0.07      1.00      0.13        16\n",
      "\n",
      "    accuracy                           0.80      3381\n",
      "   macro avg       0.72      0.85      0.73      3381\n",
      "weighted avg       0.86      0.80      0.82      3381\n",
      "\n"
     ]
    }
   ],
   "source": [
    "print(report)"
   ]
  },
  {
   "cell_type": "markdown",
   "metadata": {},
   "source": [
    "## Performance Evaluation\n",
    "Out of all the models we can clearly see that our models all overall have higher precision scores than recall scores.\n",
    "This can be seen at the bottom of each classification reports, which show a variety of metrics (all usually with similar scores).\n",
    "For the most part, the recall scores tend to around 0.06-0.10 or in other words 6-10% lower than precision for all models apart from k-nearest neighbours.\n",
    "For robustness though the F1 score shall be used to decipher which models perform best.\n",
    "\n",
    "\n",
    "We can empirically see that basic logistic regression and naive Bayes models perform at around ~40 accuracies.\n",
    "This makes logical sense as these are the simpler models, so they are likely underfitting the data.\n",
    "The confusion matrix has both a bright diagonal and horizontal line.\n",
    "The horizontal line at four indicates that average scores are being predicted more than anything else, despite the fact that we are working with an already rebalanced dataset where the minority classes have been oversampled.\n",
    "Although it is not shown here, substituting the oversampled training dataset with the original unaltered one will result in this to an extreme extent where the number four is almost the only number predicted.\n",
    "\n",
    "\n",
    "Although a recurring pattern of far-too-many average fours being predicted is not visible in the other models, we can still see this to varying extents.\n",
    "We can see that outcome scores with fewer samples like 8 have across-the-board concerningly low precision.\n",
    "This is caused by the models predicting numerous false positives.\n",
    "Although the models effectively predict messages with eights as eights, they tend to predict a variety of other outcome scores as also eight.\n",
    "The problem occurs for zeros, sevens and eights and is most likely a symptom of having very few unique examples of these classes.\n",
    "Hence, to greatly improve model performances across the board more data would be necessary.\n",
    "\n",
    "\n",
    "The best performing model is extreme gradient boosting at 82% F1, closely followed by standard gradient boosting and the k-nearest neighbours classifier ~79%.\n",
    "These models tend to output F1 scores per label around 10% higher than most other models.\n",
    "Yet, they still tend to struggle with the minority classes."
   ]
  },
  {
   "cell_type": "markdown",
   "metadata": {},
   "source": [
    "## Taking Models Further\n",
    "Although there relatively few individuals in the dataset, we can use these models for an individuals score by either averaging the results from the model or creating another model which acts like an ensemble processing these models predictions.\n",
    "The latter option would quite likely perform better as it may be able to avoid problems with introductory messages pulling down the overall scores.\n",
    "\n",
    "This is a far better approach than creating a model to process messages composed of concatenated text from all of a users messages for three reasons:\n",
    "* Language models typically struggle with long sentences\n",
    "* There are far more messages than users and machine learning models work well with larger datasets\n",
    "* We can easily re-apply our models and get solid results for the real internships with our existing models (without major refactor/extensions)"
   ]
  },
  {
   "cell_type": "code",
   "execution_count": null,
   "metadata": {},
   "outputs": [],
   "source": []
  }
 ],
 "metadata": {
  "kernelspec": {
   "display_name": "Python 3",
   "language": "python",
   "name": "python3"
  },
  "language_info": {
   "codemirror_mode": {
    "name": "ipython",
    "version": 3
   },
   "file_extension": ".py",
   "mimetype": "text/x-python",
   "name": "python",
   "nbconvert_exporter": "python",
   "pygments_lexer": "ipython3",
   "version": "3.7.10"
  },
  "metadata": {
   "interpreter": {
    "hash": "3c7d52aad02ab102b93569f413756f9f24e92e7f2578c445b4dc92137719a7a4"
   }
  }
 },
 "nbformat": 4,
 "nbformat_minor": 4
}
